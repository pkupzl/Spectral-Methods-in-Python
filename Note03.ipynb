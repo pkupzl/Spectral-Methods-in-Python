{
 "cells": [
  {
   "cell_type": "markdown",
   "metadata": {},
   "source": [
    "# Periodic Grids: The DFT and FFT"
   ]
  },
  {
   "cell_type": "markdown",
   "metadata": {},
   "source": [
    "In [Note02](Note02.ipynb), we've discussed **semidiscrete fourier transform**. Now, if we further limit our physical domain to a discrete and bounded domain, then our the semidiscrete Fourier transform is replaced by the DFT (discrete Fourier transform), which can be computed by the FFT (Fast Fourier Transform).<br>\n",
    "Throughout the book, the number of grid points on a periodic grid will always be even. All our results have analogues for odd N, but the formulas are different, and little would be gained by writing everything twice. The spacing of the grid points is $h= 2\\pi/N$, which gives us:\n",
    "$$\n",
    "\\frac{\\pi}{h} = \\frac{N}{2}\n",
    "$$"
   ]
  },
  {
   "cell_type": "markdown",
   "metadata": {},
   "source": [
    "Let us consider the Fourier transform on the N-point grid. As in the last chapter, the mesh spacing h implies that wavenumbers differing by an integer multiple of $2\\pi/h$ are indistinguishable on the grid, and thus it will be enough to confine our attention to $k \\in \\left[ —\\pi/ h , \\pi /h\\right]$. Now, however, the Fourier domain is  <b style='color:purple'>discrete</b> as well as <b style='color:orange'>bounded</b>. This is because waves in physical space must be periodic over the interval $[0, 2\\pi]$, and only waves $e^{ikx}$ with integer wavenumbers have the required period $2\\pi$. We find:\n",
    "$$\n",
    "\\begin{aligned}\n",
    "\\text{Physical space: \\quad} & \\text{\\textcolor{purple}{dicrete} \\quad and \\quad }\\text{\\textcolor{orange}{bounded}}& \\quad \\text{:} \\quad &x\\in \\left \\{ h,2h,\\dots,2\\pi-h,2\\pi\\right\\} \\\\\n",
    "\\text{Fourier space: \\quad }&\\text{\\textcolor{orange}{bounded} \\quad and \\quad }\\text{\\textcolor{purple}{dicrete}}& \\quad \\text{:} \\quad &k\\in \\left \\{ -\\frac{N}{2}+1,\\dots,\\frac{N}{2}\\right\\}\n",
    "\\end{aligned}\n",
    "$$"
   ]
  },
  {
   "cell_type": "markdown",
   "metadata": {},
   "source": [
    "The DFT formula is:\n",
    "$$\n",
    "\\hat{v}_{k} = h\\sum_{j=1}^{N}v_{j}e^{-ikx_{j}} \\quad \\text{for} \\quad k\\in \\left \\{ -\\frac{N}{2}+1,\\dots,\\frac{N}{2}\\right\\}\\tag{3.2}\n",
    "$$\n",
    "And the inverse DFT formula is:\n",
    "$$\n",
    "\\begin{equation}\n",
    "v_{j} = \\frac{1}{2\\pi}\\sum_{k=-\\frac{N}{2}+1}^{\\frac{N}{2}}\\hat{v}_{k}e^{ikx_{j}} \\quad \\text{for} \\quad j\\in \\left \\{ 1,\\dots,N\\right\\} \\tag{3.3}\n",
    "\\end{equation}\n",
    "$$"
   ]
  },
  {
   "cell_type": "markdown",
   "metadata": {},
   "source": [
    "For spectral differentiation of a grid function $v$, we follow the model of the last chapter exactly. First we need a band-limited interpolant of $v$, which we obtain by evaluating the inverse DFT (3.3) for all $x$ rather than just $x$ on the grid. But before we differentiate our interpolant, there is a complication to address, suggested in Figure 3.1. Evaluating the inverse transform (3.3) as it stands would give a term $e^{iNx/2}$ with derivative $(iN/2)e^{iNx/2}$ . Since $e^{iNx/2}$ represents a real, sawtooth wave on the grid, its derivative should be zero at the grid points, not a complex exponential! The problem is that (3.3) treats the highest wavenumber asymmetrically. We can fix this by defining $\\hat{v}_{-N/2} = \\hat{v}_{N/2}$ and replacing (3.3) by\n",
    "$$\n",
    "\\begin{equation}\n",
    "v_{j} = \\frac{1}{2\\pi}\\sum_{k=-\\frac{N}{2}}^{\\frac{N}{2}\\prime }\\hat{v}_{k}e^{ikx_{j}} \\quad \\text{for} \\quad j\\in \\left \\{ 1,\\dots,N\\right\\} \\tag{3.4}\n",
    "\\end{equation}\n",
    "$$\n",
    "where the prime indicates that the terms $k = +N/2$ are multiplied by $2$. Note that the DFT and its inverse can still be defined by (3.2) and (3.3). Equation (3.4) is needed just for the purpose of deriving a band-limited interpolant, which takes the form"
   ]
  },
  {
   "cell_type": "markdown",
   "metadata": {},
   "source": [
    "where the prime indicates that the terms $k = \\pm N/2$ are multiplied by $\\frac{1}{2}$. Note that the DFT and its inverse can still be defined by (3.2) and (3.3). Equation (3.4) is needed just for the purpose of deriving a band-limited interpolant, which takes the form\n",
    "$$\n",
    "\\begin{equation}\n",
    "p(x) = \\frac{1}{2\\pi}\\sum_{k=-\\frac{N}{2}}^{\\frac{N}{2}\\prime} \\hat{v}_{k}e^{ikx} \\tag{3.5}\n",
    "\\end{equation}\n",
    "$$"
   ]
  },
  {
   "cell_type": "markdown",
   "metadata": {},
   "source": [
    "To interpolate a grid function $v$, as in the previous chapter, we can use this general formula, or we can compute the band-limited interpolant of the delta function and expand $v$ as a linear combination of translated delta functions. The delta function is now periodic (compare (2.7)):\n",
    "$$\n",
    "\\begin{equation}\n",
    " \\delta_{j} = \n",
    "  \\begin{cases} \n",
    "   1 & \\text{if } j \\equiv 0 \\mod N \\\\\n",
    "   0   & \\text{if } j \\not\\equiv 0 \\mod N\\\\\n",
    "  \\end{cases} \\tag{3.6}\n",
    "\\end{equation}\n",
    "$$"
   ]
  },
  {
   "cell_type": "markdown",
   "metadata": {},
   "source": [
    "From (3.2) we have $\\delta_{k} = h$ for each $k$, and so, from (3.5), we get\n",
    "$$\n",
    "\\begin{equation}\n",
    "    \\begin{aligned}\n",
    "p(x) = \\frac{1}{2\\pi}\\sum_{k=-\\frac{N}{2}}^{\\frac{N}{2}\\prime} h e^{ikx} & = \\frac{h}{2\\pi}\\left( \\frac{1}{2}\\sum_{k=-\\frac{N}{2}}^{\\frac{N}{2}-1}e^{ikx}+\\frac{1}{2}\\sum_{k=-\\frac{N}{2}+1}^{\\frac{N}{2}}e^{ikx}\\right)\\\\\n",
    "& =  \\frac{h}{2\\pi}cos(x/2)\\left( \\sum_{k=-\\frac{N}{2}+\\frac{1}{2}}^{\\frac{N}{2}-\\frac{1}{2}}e^{ikx}\\right)\\\\\n",
    "& = \\frac{h}{2\\pi}cos(x/2)\\frac{e^{i(-N/2+1/2)x}-e^{i(N/2+1/2)x}}{1-e^{ix}}\\\\\n",
    "& = \\frac{h}{2\\pi}cos(x/2)\\frac{e^{i(-N/2+1/2)x/2}-e^{i(N/2+1/2)x/2}}{e^{ix/2}-e^{-ix/2}}\\\\\n",
    "& = \\frac{h}{2\\pi}cos(x/2)\\frac{sin(Nx/2)}{sin(x/2)} \\tag{3.7}\\\\\n",
    "    \\end{aligned}\n",
    "\\end{equation}\n",
    "$$\n",
    "Using the identity (3.1), we conclude that the band-limited interpolant to $\\delta$ is the periodic sinc function $S_{N}$:\n",
    "$$\n",
    "\\begin{equation}\n",
    "S_{N}(x) = \\frac{sin(\\pi x/h)}{(2\\pi/h)tan(x/2)} \\tag{3.8}\n",
    "\\end{equation}\n",
    "$$\n",
    "Note that since $tan(x/2)\\rightarrow x/2$ as $x\\rightarrow 0$, $S_{N}(x)$ behaves like the nonperiodic sinc function $S_{h} (x)$ of (2.8) in the limit $x\\rightarrow 0$ independently of $h$."
   ]
  },
  {
   "cell_type": "markdown",
   "metadata": {},
   "source": [
    "An expansion of a periodic grid function $v$ in the basis of shifted periodic delta functions takes the form $v_{j} = \\sum_{m=1}^{N} v_{m}\\delta_{j-m}$ , in analogy to (2.9). Thus the band-limited interpolant of (3.5) can be written in analogy to (2.10) as\n",
    "$$\n",
    "\\begin{equation}\n",
    "p(x) = \\sum_{m=1}^{N}v_{m}S_{N}(x-x_{m}) \\tag{3.9}\n",
    "\\end{equation}\n",
    "$$\n",
    "After a small calculation analogous to the derivation of (2.12), we find that the derivative of the periodic sinc function at a grid point is\n",
    "$$\n",
    "\\begin{equation}\n",
    " S_{N}(x_{j}) = \n",
    "  \\begin{cases} \n",
    "   0 & \\text{if } j \\equiv 0 \\mod N \\\\\n",
    "   \\frac{1}{2}(-1)^{j}cot(jh/2)   & \\text{if } j \\not\\equiv 0 \\mod N\\\\\n",
    "  \\end{cases} \\tag{3.6}\n",
    "\\end{equation}\n",
    "$$\n"
   ]
  },
  {
   "cell_type": "markdown",
   "metadata": {},
   "source": [
    "As ever with spectral methods, alternative methods of implementation can be found. In particular, the DFT can be used:\n",
    "- Given $v$, compute $\\hat{v}$ by (3.2).\n",
    "- Define $\\hat{w}_{k} = ik\\hat{v}_{k}$ for $k\\in \\left \\{ -\\frac{N}{2}+1,\\dots,\\frac{N}{2}\\right\\}$,except for $\\hat{w}_{N/2} = 0$.\n",
    "- Compute $w$ by the inverse DFT (3.3).\n",
    "\n",
    "For higher derivatives we multiply by the appropriate power of $ik$, taking special care of the $\\hat{W}_{N/2}$ term. For odd derivatives there is a loss of symmetry and we have to set $\\hat{W}_{N/2}$. Otherwise $\\hat{W}_{N/2}$ is given by the same formula as the other $\\hat{w}_{k}$. In summary, to approximate the with derivative,\n",
    "- Given $v$, compute $\\hat{v}$ by (3.2).\n",
    "- Define $\\hat{w}_{k} = (ik)^{m}\\hat{v}_{k}$ for $k\\in \\left \\{ -\\frac{N}{2}+1,\\dots,\\frac{N}{2}\\right\\}$,except for $\\hat{w}_{N/2} = 0$ when $m$ is odd.\n",
    "- Compute $w$ by the inverse DFT (3.3)."
   ]
  },
  {
   "cell_type": "markdown",
   "metadata": {},
   "source": [
    "# Related Notebooks:\n",
    "- [p03.ipynb](p03.ipynb): Band-limited interpolation\n",
    "- [p04.ipynb](p04.ipynb): Periodic spectral differentiation\n",
    "- [p05.ipynb](p05.ipynb): Repetition of p4 via FFT\n",
    "- [p06.ipynb](p06.ipynb): Variable coefficient wave equation"
   ]
  },
  {
   "cell_type": "markdown",
   "metadata": {},
   "source": []
  }
 ],
 "metadata": {
  "kernelspec": {
   "display_name": "tensorflow",
   "language": "python",
   "name": "python3"
  },
  "language_info": {
   "codemirror_mode": {
    "name": "ipython",
    "version": 3
   },
   "file_extension": ".py",
   "mimetype": "text/x-python",
   "name": "python",
   "nbconvert_exporter": "python",
   "pygments_lexer": "ipython3",
   "version": "3.8.16"
  }
 },
 "nbformat": 4,
 "nbformat_minor": 2
}
