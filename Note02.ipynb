{
 "cells": [
  {
   "cell_type": "markdown",
   "metadata": {},
   "source": [
    "# Unbounded Grids: The Semidiscrete Fourier Transform"
   ]
  },
  {
   "cell_type": "markdown",
   "metadata": {},
   "source": [
    "For a function $v$ defined on $hZ$ with value $v_{j}$ at $x_{j}$, the **semidiscrete Fourier transform** is defined by:\n",
    "$$\n",
    "\\hat{v}(k) = h\\sum_{j=-\\infty}^{\\infty} v_{j} e^{-ikx_{j}}.\n",
    "$$\n",
    "and the inverse semidiscrete Fourier transform is:\n",
    "$$\n",
    "v_{j} = \\frac{1}{2\\pi} \\int_{-\\pi/h}^{\\pi/h} \\hat{v}(k) e^{ikx_{j}} dk.\n",
    "$$\n",
    "We want to consider $x$ ranging over $hZ$ rather than $R$. Precise analogues of the Fourier transform and its inverse exist for this case. **The crucial point is that because the spatial domain is discrete, the wavenumber $k$ will no longer range over all of $R$**. Instead, the appropriate wavenumber domain is a bounded interval of length $2\\pi/h$, and one suitable choice is $\\left[—\\pi/h, \\pi/h\\right]$. **Remember, $k$ is bounded because $x$ is discrete.**"
   ]
  },
  {
   "cell_type": "markdown",
   "metadata": {},
   "source": [
    "We are ready to give our first two descriptions of spectral differentiation of a function $v$ defined on $hZ$. Here is one:\n",
    "- Given $v$, determine its band-limited interpolant p by $p(x) = \\frac{1}{2\\pi} \\int_{-\\pi/h}^{\\pi/h} \\hat{v}(k) e^{ikx} dk$.\n",
    "- Set $w_{i} = p'(x_{j})$\n",
    "  \n",
    "\n",
    "Another is obtained by saying the same thing in Fourier space. If $u$ is a differentiable function with Fourier transform $\\hat{u}$, then the Fourier transform of $u'$ is $ik\\hat{u}(k)$.And thus we have an equivalent procedure for spectral differentiation:\n",
    "- Given $v$, compute its semidiscrete Fourier transform $\\hat{v}$.\n",
    "- Set $\\hat{w}(k) = ik\\hat{v}(k)$.\n",
    "- Determine the inverse Fourier transform of $\\hat{w}$ to obtain $w$.\n",
    "- Set $w_{j} = w(x_{j})$."
   ]
  },
  {
   "cell_type": "markdown",
   "metadata": {},
   "source": [
    "Both of these descriptions of spectral differentiation are mathematically complete, but we have not yet derived the coefficients of the matrix (1.4). To do this, we can use the Fourier transform to go back and get a fuller understanding of the band-limited interpolant $p(x)$ Let $\\delta$ be the Kronecker delta function,the semidiscrete Fourier transform of $\\delta$ is a constant: $\\hat{\\delta}(k) = h$ for all $k \\in \\left[-\\pi/h, \\pi/h\\right]$ By (2.5), the band-limited interpolant of $\\delta$ is accordingly:\n",
    "$$\n",
    "p(x) = \\frac{h}{2\\pi} \\int_{-\\pi/h}^{\\pi/h} e^{ikx} dk = \\frac{h}{2\\pi} \\frac{e^{ikx}}{ix} \\Big|_{-\\pi /h}^{\\pi /h} = \\frac{h}{2\\pi} \\frac{e^{i\\pi/h} - e^{-i\\pi/h}}{ix} = \\frac{\\sin(\\pi x/h)}{\\pi x/h}\n",
    "$$\n",
    "This famous and beautiful function is called the **sinc function**,\n",
    "$$\n",
    "S_{h}(x) = \\frac{\\sin(\\pi x/h)}{\\pi x/h}\n",
    "$$\n"
   ]
  },
  {
   "cell_type": "markdown",
   "metadata": {},
   "source": [
    "The band-limited interpolant of $\\delta_{j-m}$ is $S_{h}(x_{j}-x_{m})$. A general grid function $v$ can be written\n",
    "$$\n",
    "v_{j} = \\sum_{m=-\\infty}^{\\infty} v_{m} \\delta_{j-m}"
   ]
  },
  {
   "cell_type": "markdown",
   "metadata": {},
   "source": [
    "so it follows by the linearity of the semidiscrete Fourier transform that the band-limited interpolant of $v$ is a linear combination of translated sinc functions:\n",
    "$$\n",
    "p(x) = \\sum_{m=-\\infty}^{\\infty} v_{m} S_{h}(x-x_{m})\n",
    "$$\n",
    "The derivative is accordingly\n",
    "$$\n",
    "w(x) = \n",
    "p'(x) = \\sum_{m=-\\infty}^{\\infty} v_{m} S_{h}'(x-x_{m})\n",
    "$$\n",
    "where $S_{h}'(x_{j})$ can be written as \n",
    "$$\n",
    "S_{h}'(x_{j}) = 0, \\quad j = 0 \n",
    "$$\n",
    "$$\n",
    "S_{h}'(x_{j}) = \\frac{(-1)^{j}}{jh},\\quad j \\neq 0\n",
    "$$"
   ]
  },
  {
   "cell_type": "code",
   "execution_count": null,
   "metadata": {},
   "outputs": [],
   "source": [
    "\n"
   ]
  }
 ],
 "metadata": {
  "kernelspec": {
   "display_name": "tensorflow",
   "language": "python",
   "name": "python3"
  },
  "language_info": {
   "codemirror_mode": {
    "name": "ipython",
    "version": 3
   },
   "file_extension": ".py",
   "mimetype": "text/x-python",
   "name": "python",
   "nbconvert_exporter": "python",
   "pygments_lexer": "ipython3",
   "version": "3.8.16"
  }
 },
 "nbformat": 4,
 "nbformat_minor": 2
}
